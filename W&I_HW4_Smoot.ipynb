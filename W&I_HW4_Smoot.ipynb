{
 "cells": [
  {
   "cell_type": "code",
   "execution_count": 140,
   "metadata": {},
   "outputs": [],
   "source": [
    "import sys \n",
    "import math\n",
    "import matplotlib as mpl\n",
    "from matplotlib import pyplot as plt \n",
    "import matplotlib.pylab as plt\n",
    "import matplotlib.path as mpath\n",
    "from matplotlib.pyplot import figure\n",
    "import numpy as np\n",
    "import traceback\n",
    "import imageio\n",
    "import os, glob"
   ]
  },
  {
   "cell_type": "code",
   "execution_count": 141,
   "metadata": {},
   "outputs": [],
   "source": [
    "#constants\n",
    "Ns= 0.01 #1/s\n",
    "xo= 0 #m\n",
    "zo= 0 #m \n",
    "#Nt= 500 \n",
    "Nt = 200\n",
    "dt= 100 #s\n",
    "\n",
    "#loop this to see multiple particle launches \n",
    "mo= 2*np.pi/1000\n",
    "ko= 2*np.pi/1000\n",
    "\n",
    "#d\n",
    "dU=10 #m/s\n",
    "b = 500 #in m, \n",
    "L = 3000  #in m \n",
    "\n",
    "#dispersion relation/ frequency\n",
    "wo= Ns*ko / np.sqrt(mo**2 + ko**2)\n",
    "\n",
    "#initialize zero arrays\n",
    "m_arr=np.zeros((Nt,))\n",
    "N_arr=np.zeros((Nt,))\n",
    "xp_arr=np.zeros((Nt,))\n",
    "zp_arr=np.zeros((Nt,))\n",
    "\n",
    "m_arr[0]=mo\n",
    "N_arr[0]=Ns\n"
   ]
  },
  {
   "cell_type": "code",
   "execution_count": 142,
   "metadata": {},
   "outputs": [],
   "source": [
    "\n",
    "for it in range(Nt -1 ):\n",
    "    \n",
    "    #group velocity \n",
    "    Cgx= N_arr[it]*m_arr[it]**2 / (m_arr[it]**2 + ko**2)**1.5\n",
    "    Cgz= N_arr[it]*ko*m_arr[it] /(m_arr[it]**2 + ko**2)**1.5\n",
    "    \n",
    "    #particle position\n",
    "    xp_arr[it+1]= xp_arr[it] + dt*Cgx\n",
    "    zp_arr[it+1]= zp_arr[it] + dt*Cgz\n",
    "    \n",
    "    #change vertical wave # with height \n",
    "    \n",
    "    #a) N const. w/ height \n",
    "    #N_arr[it+1] = Ns \n",
    "    \n",
    "    #b) N monotonically decrease w/ height \n",
    "    #N_arr[it+1] =  Ns + -Ns * zp_arr[it+1]/10000\n",
    "        \n",
    "    #c) N monotonically increase w/ height\n",
    "    #N_arr[it+1] = Ns + Ns/10000 *zp_arr[it+1]\n",
    " \n",
    "        \n",
    "    #d) N having a single peak above at some height above the ground \n",
    "    #For this one more time steps \n",
    "    N_arr[it+1] = Ns + Ns/(1+ (zp_arr[it+1]-L)**2 /b**2)\n",
    "    \n",
    "    \n",
    "    m_arr[it+1]= ko*np.sqrt(N_arr[it+1]**2/wo**2-1)    \n",
    "    "
   ]
  },
  {
   "cell_type": "code",
   "execution_count": 143,
   "metadata": {},
   "outputs": [
    {
     "data": {
      "image/png": "[encoded data removed]",
      "text/plain": [
       "<Figure size 432x288 with 1 Axes>"
      ]
     },
     "metadata": {
      "needs_background": "light"
     },
     "output_type": "display_data"
    }
   ],
   "source": [
    "# Create Plots \n",
    "plt.plot(xp_arr, zp_arr, color='tab:red')\n",
    "#plt.title('Particle Position with Constant N\\nwith Height')\n",
    "#plt.title('Particle Position with Monotonically\\nIncreasing N with Height')\n",
    "#plt.title('Particle Position with Monotonically\\nDecreasing N with Height')\n",
    "plt.title('Particle Position with\\nSingle Peak N')\n",
    "plt.xlabel('Length (m)')\n",
    "plt.ylabel('Height (m)')\n",
    "plt.show()\n"
   ]
  },
  {
   "cell_type": "code",
   "execution_count": null,
   "metadata": {},
   "outputs": [],
   "source": []
  }
 ],
 "metadata": {
  "kernelspec": {
   "display_name": "Python 3",
   "language": "python",
   "name": "python3"
  },
  "language_info": {
   "codemirror_mode": {
    "name": "ipython",
    "version": 3
   },
   "file_extension": ".py",
   "mimetype": "text/x-python",
   "name": "python",
   "nbconvert_exporter": "python",
   "pygments_lexer": "ipython3",
   "version": "3.8.3"
  }
 },
 "nbformat": 4,
 "nbformat_minor": 4
}
